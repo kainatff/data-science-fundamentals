{
  "nbformat": 4,
  "nbformat_minor": 0,
  "metadata": {
    "colab": {
      "provenance": []
    },
    "kernelspec": {
      "name": "python3",
      "display_name": "Python 3"
    },
    "language_info": {
      "name": "python"
    }
  },
  "cells": [
    {
      "cell_type": "markdown",
      "source": [
        "task1 a)"
      ],
      "metadata": {
        "id": "0R8NDoftA7Kw"
      }
    },
    {
      "cell_type": "code",
      "execution_count": null,
      "metadata": {
        "colab": {
          "base_uri": "https://localhost:8080/"
        },
        "id": "WUZdRVgLEn4-",
        "outputId": "2039eb4e-beb3-430d-ea30-25163578b927"
      },
      "outputs": [
        {
          "output_type": "stream",
          "name": "stdout",
          "text": [
            "df1:\n",
            "   A    B  C\n",
            "0  1  2.0  3\n",
            "1  4  5.0  6\n",
            "4  2  NaN  5\n",
            "\n",
            "df2:\n",
            "       A  B  C\n",
            "2      2  5  6\n",
            "3  Hello  3  4\n"
          ]
        }
      ],
      "source": [
        "import pandas as pd\n",
        "df1 = pd.read_csv('data1.csv', index_col=0)\n",
        "\n",
        "df2 = pd.read_csv('data2.csv', index_col=1)\n",
        "\n",
        "print(\"df1:\")\n",
        "print(df1)\n",
        "print(\"\\ndf2:\")\n",
        "print(df2)"
      ]
    },
    {
      "cell_type": "markdown",
      "source": [
        "b)"
      ],
      "metadata": {
        "id": "p-J0aunJBE4m"
      }
    },
    {
      "cell_type": "code",
      "source": [
        "import pandas as pd\n",
        "\n",
        "df1 = pd.read_csv('data1.csv', index_col=0)\n",
        "df2 = pd.read_csv('data2.csv', index_col=1)\n",
        "\n",
        "df3 = pd.concat([df1, df2], axis=0)\n",
        "\n",
        "print(\"df3:\")\n",
        "print(df3)"
      ],
      "metadata": {
        "colab": {
          "base_uri": "https://localhost:8080/"
        },
        "id": "lMhUp3j1FWBa",
        "outputId": "70e2972a-eb83-44c6-dfb6-f084211e4cb8"
      },
      "execution_count": null,
      "outputs": [
        {
          "output_type": "stream",
          "name": "stdout",
          "text": [
            "df3:\n",
            "       A    B  C\n",
            "0      1  2.0  3\n",
            "1      4  5.0  6\n",
            "4      2  NaN  5\n",
            "2      2  5.0  6\n",
            "3  Hello  3.0  4\n"
          ]
        }
      ]
    },
    {
      "cell_type": "markdown",
      "source": [
        "c)"
      ],
      "metadata": {
        "id": "vhA2EilKBHCw"
      }
    },
    {
      "cell_type": "code",
      "source": [
        "df4 = pd.read_csv(\"data3.csv\", index_col=0)\n",
        "print(\"\\ndf4:\")\n",
        "print(df4)\n",
        "\n",
        "df5 = df3.merge(df4, left_index=True, right_index=True, how=\"outer\")\n",
        "print(\"\\ndf5:\")\n",
        "print(df5)"
      ],
      "metadata": {
        "colab": {
          "base_uri": "https://localhost:8080/"
        },
        "id": "HfoUpO91GQtp",
        "outputId": "1532df05-4ee3-4c9e-e15a-f5b5ee325607"
      },
      "execution_count": null,
      "outputs": [
        {
          "output_type": "stream",
          "name": "stdout",
          "text": [
            "\n",
            "df4:\n",
            "   D  E\n",
            "1  1  7\n",
            "4  0  8\n",
            "\n",
            "df5:\n",
            "       A    B  C    D    E\n",
            "0      1  2.0  3  NaN  NaN\n",
            "1      4  5.0  6  1.0  7.0\n",
            "2      2  5.0  6  NaN  NaN\n",
            "3  Hello  3.0  4  NaN  NaN\n",
            "4      2  NaN  5  0.0  8.0\n"
          ]
        }
      ]
    },
    {
      "cell_type": "markdown",
      "source": [
        "d)"
      ],
      "metadata": {
        "id": "xHKaWewsBI6j"
      }
    },
    {
      "cell_type": "code",
      "source": [
        "import pandas as pd\n",
        "import numpy as np\n",
        "\n",
        "df6 = pd.read_json(\"data.json\")\n",
        "print(\"\\ndf6:\")\n",
        "print(df6)\n",
        "\n",
        "df7 = pd.concat([df5, df6], ignore_index=True)\n",
        "print(\"\\ndf7 (concatenation):\")\n",
        "print(df7)"
      ],
      "metadata": {
        "colab": {
          "base_uri": "https://localhost:8080/"
        },
        "id": "uRpxiLIV4a0V",
        "outputId": "57b3a782-733c-48fe-baa7-9caa782a59b4"
      },
      "execution_count": null,
      "outputs": [
        {
          "output_type": "stream",
          "name": "stdout",
          "text": [
            "\n",
            "df6:\n",
            "    A  B\n",
            "0  11  9\n",
            "1  22  7\n",
            "2  33  8\n",
            "\n",
            "df7 (concatenation):\n",
            "       A    B    C    D    E\n",
            "0      1  2.0  3.0  NaN  NaN\n",
            "1      4  5.0  6.0  1.0  7.0\n",
            "2      2  5.0  6.0  NaN  NaN\n",
            "3  Hello  3.0  4.0  NaN  NaN\n",
            "4      2  NaN  5.0  0.0  8.0\n",
            "5     11  9.0  NaN  NaN  NaN\n",
            "6     22  7.0  NaN  NaN  NaN\n",
            "7     33  8.0  NaN  NaN  NaN\n"
          ]
        }
      ]
    },
    {
      "cell_type": "markdown",
      "source": [
        "e)"
      ],
      "metadata": {
        "id": "uQZUDV10BL3G"
      }
    },
    {
      "cell_type": "code",
      "source": [
        "df7 = df7.map(lambda x: np.nan if isinstance(x, str) else x)\n",
        "print(\"\\ndf7 (replacing strings with NaN):\")\n",
        "print(df7)"
      ],
      "metadata": {
        "colab": {
          "base_uri": "https://localhost:8080/"
        },
        "id": "PP9CLvSb4uXc",
        "outputId": "a5d694aa-5ec9-44df-a047-ec7fc2d456de"
      },
      "execution_count": null,
      "outputs": [
        {
          "output_type": "stream",
          "name": "stdout",
          "text": [
            "\n",
            "df7 (replacing strings with NaN):\n",
            "      A    B    C    D    E\n",
            "0   1.0  2.0  3.0  NaN  NaN\n",
            "1   4.0  5.0  6.0  1.0  7.0\n",
            "2   NaN  5.0  6.0  NaN  NaN\n",
            "3   NaN  3.0  4.0  NaN  NaN\n",
            "4   2.0  NaN  5.0  0.0  8.0\n",
            "5  11.0  9.0  NaN  NaN  NaN\n",
            "6  22.0  7.0  NaN  NaN  NaN\n",
            "7  33.0  8.0  NaN  NaN  NaN\n"
          ]
        }
      ]
    },
    {
      "cell_type": "markdown",
      "source": [
        "f)"
      ],
      "metadata": {
        "id": "BV0XtnBFBNWM"
      }
    },
    {
      "cell_type": "code",
      "source": [
        "df7.fillna(df7.mean(numeric_only=True), inplace=True)\n",
        "print(\"\\ndf7 (replacing NaN with column means):\")\n",
        "print(df7)\n",
        "\n",
        "df7.to_csv(\"newdata.csv\", index=False)\n",
        "print(\"\\nfinal dataframe saved as 'newdata.csv'\")"
      ],
      "metadata": {
        "colab": {
          "base_uri": "https://localhost:8080/"
        },
        "id": "mRNhEWjo5GIq",
        "outputId": "1b024116-648f-404f-8eaf-c27addac7fbe"
      },
      "execution_count": null,
      "outputs": [
        {
          "output_type": "stream",
          "name": "stdout",
          "text": [
            "\n",
            "df7 (replacing NaN with column means):\n",
            "           A         B    C    D    E\n",
            "0   1.000000  2.000000  3.0  0.5  7.5\n",
            "1   4.000000  5.000000  6.0  1.0  7.0\n",
            "2  12.166667  5.000000  6.0  0.5  7.5\n",
            "3  12.166667  3.000000  4.0  0.5  7.5\n",
            "4   2.000000  5.571429  5.0  0.0  8.0\n",
            "5  11.000000  9.000000  4.8  0.5  7.5\n",
            "6  22.000000  7.000000  4.8  0.5  7.5\n",
            "7  33.000000  8.000000  4.8  0.5  7.5\n",
            "\n",
            "final dataframe saved as 'newdata.csv'\n"
          ]
        }
      ]
    },
    {
      "cell_type": "markdown",
      "source": [
        "task 2"
      ],
      "metadata": {
        "id": "UkZ8hBnRWV1I"
      }
    },
    {
      "cell_type": "code",
      "source": [
        "import pandas as pd\n",
        "import numpy as np\n",
        "import matplotlib.pyplot as plt\n",
        "import seaborn as sns\n",
        "\n",
        "df1 = pd.read_csv('telecom_churn.csv', index_col=1)\n",
        "\n",
        "print(\"predicting telecom churn...\")\n",
        "print('\\n1. using cross contingency table\\n')\n",
        "df2 = pd.crosstab(df1['churn'], df1['international plan'], margins=True)\n",
        "print(df2)\n",
        "\n",
        "print('\\n2. using seaborn\\n')\n",
        "sns.countplot(x='international plan',hue='churn',data=df1)\n",
        "plt.show()\n",
        "\n",
        "df3 = pd.crosstab(df1['churn'], df1['customer service calls'], margins=True)\n",
        "print(df3)\n",
        "\n",
        "sns.countplot(x='customer service calls',hue='churn',data=df1)\n",
        "plt.show()\n",
        "\n",
        "df1['many_service_calls'] = (df1['customer service calls'] > 3).astype('int')\n",
        "df4 = pd.crosstab(df1['many_service_calls'], df1['churn'], margins=True)\n",
        "print(df4)\n",
        "\n",
        "sns.countplot(x='many_service_calls',hue='churn',data=df1)\n",
        "plt.show()\n"
      ],
      "metadata": {
        "colab": {
          "base_uri": "https://localhost:8080/",
          "height": 1000
        },
        "id": "k6-iDH5FWXXG",
        "outputId": "8a7047a1-06a7-4d30-bd63-f98ede5c4ed4"
      },
      "execution_count": 2,
      "outputs": [
        {
          "output_type": "stream",
          "name": "stdout",
          "text": [
            "predicting telecom churn...\n",
            "\n",
            "1. using cross contingency table\n",
            "\n",
            "international plan    no  yes   All\n",
            "churn                              \n",
            "False               2664  186  2850\n",
            "True                 346  137   483\n",
            "All                 3010  323  3333\n",
            "\n",
            "2. using seaborn\n",
            "\n"
          ]
        },
        {
          "output_type": "display_data",
          "data": {
            "text/plain": [
              "<Figure size 640x480 with 1 Axes>"
            ],
            "image/png": "[encoded data removed]"
          },
          "metadata": {}
        },
        {
          "output_type": "stream",
          "name": "stdout",
          "text": [
            "customer service calls    0     1    2    3    4   5   6  7  8  9   All\n",
            "churn                                                                  \n",
            "False                   605  1059  672  385   90  26   8  4  1  0  2850\n",
            "True                     92   122   87   44   76  40  14  5  1  2   483\n",
            "All                     697  1181  759  429  166  66  22  9  2  2  3333\n"
          ]
        },
        {
          "output_type": "display_data",
          "data": {
            "text/plain": [
              "<Figure size 640x480 with 1 Axes>"
            ],
            "image/png": "[encoded data removed]"
          },
          "metadata": {}
        },
        {
          "output_type": "stream",
          "name": "stdout",
          "text": [
            "churn               False  True   All\n",
            "many_service_calls                   \n",
            "0                    2721   345  3066\n",
            "1                     129   138   267\n",
            "All                  2850   483  3333\n"
          ]
        },
        {
          "output_type": "display_data",
          "data": {
            "text/plain": [
              "<Figure size 640x480 with 1 Axes>"
            ],
            "image/png": "[encoded data removed]"
          },
          "metadata": {}
        }
      ]
    }
  ]
}